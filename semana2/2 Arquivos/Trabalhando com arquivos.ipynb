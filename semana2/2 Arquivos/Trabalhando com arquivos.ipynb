{
 "cells": [
  {
   "cell_type": "markdown",
   "metadata": {},
   "source": [
    "### Tutorial\n",
    "Nosso objetivo agora é aprender a escrever um arquivo de texto e a ler um arquivo de texto do computador.\n",
    "\n",
    "1. Assista a este [vídeo](https://www.youtube.com/watch?v=YV6qm6erphk&list=PL6gx4Cwl9DGAcbMi1sH6oAMk4JHw91mC_&index=23) para uma breve introdução ao assunto."
   ]
  },
  {
   "cell_type": "code",
   "execution_count": null,
   "metadata": {
    "collapsed": true
   },
   "outputs": [],
   "source": []
  }
 ],
 "metadata": {
  "kernelspec": {
   "display_name": "Python 3",
   "language": "python",
   "name": "python3"
  },
  "language_info": {
   "codemirror_mode": {
    "name": "ipython",
    "version": 3
   },
   "file_extension": ".py",
   "mimetype": "text/x-python",
   "name": "python",
   "nbconvert_exporter": "python",
   "pygments_lexer": "ipython3",
   "version": "3.5.1"
  }
 },
 "nbformat": 4,
 "nbformat_minor": 0
}
