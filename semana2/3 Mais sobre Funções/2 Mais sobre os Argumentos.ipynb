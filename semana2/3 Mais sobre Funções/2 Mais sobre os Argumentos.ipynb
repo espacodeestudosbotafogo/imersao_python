{
 "cells": [
  {
   "cell_type": "markdown",
   "metadata": {},
   "source": [
    "## Tutorial"
   ]
  },
  {
   "cell_type": "code",
   "execution_count": null,
   "metadata": {
    "collapsed": true
   },
   "outputs": [],
   "source": []
  },
  {
   "cell_type": "markdown",
   "metadata": {},
   "source": [
    "---\n",
    "### Material Complementar\n",
    "\n",
    "1. [Keyword Arguments](https://www.youtube.com/watch?v=DASOXeFFkCg&list=PL6gx4Cwl9DGAcbMi1sH6oAMk4JHw91mC_&index=16)\n",
    "2. [Número de parâmetros variáveis](https://www.youtube.com/watch?v=QSTo9F8E6GE&list=PL6gx4Cwl9DGAcbMi1sH6oAMk4JHw91mC_&index=17)\n",
    "3. [Desempacotando argumentos](https://www.youtube.com/watch?v=DJ2HSCT6Z8w&list=PL6gx4Cwl9DGAcbMi1sH6oAMk4JHw91mC_&index=17)"
   ]
  },
  {
   "cell_type": "markdown",
   "metadata": {},
   "source": [
    "---\n",
    "## Prática\n",
    "Agora é sua vez"
   ]
  },
  {
   "cell_type": "code",
   "execution_count": null,
   "metadata": {
    "collapsed": true
   },
   "outputs": [],
   "source": []
  }
 ],
 "metadata": {
  "kernelspec": {
   "display_name": "Python 3",
   "language": "python",
   "name": "python3"
  },
  "language_info": {
   "codemirror_mode": {
    "name": "ipython",
    "version": 3
   },
   "file_extension": ".py",
   "mimetype": "text/x-python",
   "name": "python",
   "nbconvert_exporter": "python",
   "pygments_lexer": "ipython3",
   "version": "3.5.1"
  }
 },
 "nbformat": 4,
 "nbformat_minor": 0
}
