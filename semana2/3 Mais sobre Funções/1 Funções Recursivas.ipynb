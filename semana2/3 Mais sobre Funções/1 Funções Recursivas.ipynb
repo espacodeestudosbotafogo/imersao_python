{
 "cells": [
  {
   "cell_type": "markdown",
   "metadata": {},
   "source": [
    "## Tutorial\n",
    "\n",
    "Em Python, podemos chamar uma função (utilizar a função) dentro dela mesma. Quando fazemos isso, dizemos que a função é recursiva. Isso pode ser muito útil em alguns casos, deixando o tamanho do código menor do que ele seria sem a recursão.\n",
    "\n",
    "A ideia por trás de uma função recursiva é tentar simplificar o problema a cada vez que ela se chama, de modo a tentar resolver um problema mais simples primeiro e depois voltar resolvendo os mais complicados. A este caso mais simples, chamamos caso base. Toda função recursiva deve ter um caso baso, pois o caso base é aquele que ela resolve sem ter de chamar a si mesma novamente. Sem um caso base, ela entraria em recursão infinita."
   ]
  },
  {
   "cell_type": "markdown",
   "metadata": {},
   "source": [
    "### Exemplo: Função Fatorial"
   ]
  },
  {
   "cell_type": "code",
   "execution_count": 1,
   "metadata": {
    "collapsed": true
   },
   "outputs": [],
   "source": [
    "def fatorial(n):\n",
    "    if n == 0 or n == 1:    #caso base\n",
    "        return 1\n",
    "    return n*fatorial(n-1)    #calcula recursivamente"
   ]
  },
  {
   "cell_type": "code",
   "execution_count": 2,
   "metadata": {
    "collapsed": false
   },
   "outputs": [
    {
     "data": {
      "text/plain": [
       "1"
      ]
     },
     "execution_count": 2,
     "metadata": {},
     "output_type": "execute_result"
    }
   ],
   "source": [
    "fatorial(0)"
   ]
  },
  {
   "cell_type": "code",
   "execution_count": 3,
   "metadata": {
    "collapsed": false
   },
   "outputs": [
    {
     "data": {
      "text/plain": [
       "1"
      ]
     },
     "execution_count": 3,
     "metadata": {},
     "output_type": "execute_result"
    }
   ],
   "source": [
    "fatorial(1)"
   ]
  },
  {
   "cell_type": "code",
   "execution_count": 4,
   "metadata": {
    "collapsed": false
   },
   "outputs": [
    {
     "data": {
      "text/plain": [
       "6"
      ]
     },
     "execution_count": 4,
     "metadata": {},
     "output_type": "execute_result"
    }
   ],
   "source": [
    "fatorial(3)"
   ]
  },
  {
   "cell_type": "code",
   "execution_count": 5,
   "metadata": {
    "collapsed": false
   },
   "outputs": [
    {
     "data": {
      "text/plain": [
       "24"
      ]
     },
     "execution_count": 5,
     "metadata": {},
     "output_type": "execute_result"
    }
   ],
   "source": [
    "fatorial(4)"
   ]
  },
  {
   "cell_type": "code",
   "execution_count": 6,
   "metadata": {
    "collapsed": false
   },
   "outputs": [
    {
     "data": {
      "text/plain": [
       "5040"
      ]
     },
     "execution_count": 6,
     "metadata": {},
     "output_type": "execute_result"
    }
   ],
   "source": [
    "fatorial(7)"
   ]
  },
  {
   "cell_type": "markdown",
   "metadata": {},
   "source": [
    "A função fatorial é um exemplo clássico de função recursiva. O caso base ocorre quando n é igual a 0 ou igual a 1; nesse caso, retornamos a resposta 1 de imediato. Para valores maiores de n, vamos chamando a função recursivamente, pois tendo a resposta do problema (n-1) fica muito fácil de responder o problema com n."
   ]
  },
  {
   "cell_type": "markdown",
   "metadata": {},
   "source": [
    "---\n",
    "## Prática\n",
    "\n",
    "Para que você experimente esse novo conceito, propomos que codifique uma função recursiva tão simples quanto a função fatorial. Escreva uma função que retorne o n-ésimo número da *sequência de Fibbonacci*. A sequência de Fibbonacci é uma sequência em que cada número é definido como a soma dos 2 números anteriores, sendo o 0 (zero) o primeiro número e o 1 (um) o segundo número da sequência:\n",
    "\n",
    "Sequência de Fibbonacci: 0, 1, 1, 2, 3, 5, 8, 13, 21, 34..."
   ]
  },
  {
   "cell_type": "code",
   "execution_count": null,
   "metadata": {
    "collapsed": true
   },
   "outputs": [],
   "source": []
  }
 ],
 "metadata": {
  "kernelspec": {
   "display_name": "Python 3",
   "language": "python",
   "name": "python3"
  },
  "language_info": {
   "codemirror_mode": {
    "name": "ipython",
    "version": 3
   },
   "file_extension": ".py",
   "mimetype": "text/x-python",
   "name": "python",
   "nbconvert_exporter": "python",
   "pygments_lexer": "ipython3",
   "version": "3.5.1"
  }
 },
 "nbformat": 4,
 "nbformat_minor": 0
}
