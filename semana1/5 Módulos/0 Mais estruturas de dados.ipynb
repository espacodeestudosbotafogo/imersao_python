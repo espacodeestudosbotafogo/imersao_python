{
 "cells": [
  {
   "cell_type": "markdown",
   "metadata": {},
   "source": [
    "### Tutorial\n",
    "\n",
    "1. [Conjuntos](https://youtu.be/23eY8n08pMc?list=PL6gx4Cwl9DGAcbMi1sH6oAMk4JHw91mC_&t=64)\n",
    "2. [Dicionários](https://www.youtube.com/watch?v=BSNFRKG1MfE&index=20&list=PL6gx4Cwl9DGAcbMi1sH6oAMk4JHw91mC_)"
   ]
  },
  {
   "cell_type": "markdown",
   "metadata": {},
   "source": [
    "### Prática\n",
    "Agora é sua vez"
   ]
  },
  {
   "cell_type": "code",
   "execution_count": null,
   "metadata": {
    "collapsed": true
   },
   "outputs": [],
   "source": []
  }
 ],
 "metadata": {
  "kernelspec": {
   "display_name": "Python 3",
   "language": "python",
   "name": "python3"
  },
  "language_info": {
   "codemirror_mode": {
    "name": "ipython",
    "version": 3
   },
   "file_extension": ".py",
   "mimetype": "text/x-python",
   "name": "python",
   "nbconvert_exporter": "python",
   "pygments_lexer": "ipython3",
   "version": "3.5.1"
  }
 },
 "nbformat": 4,
 "nbformat_minor": 0
}
