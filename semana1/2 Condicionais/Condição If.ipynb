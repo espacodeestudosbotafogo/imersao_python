{
 "cells": [
  {
   "cell_type": "markdown",
   "metadata": {},
   "source": [
    "### If, elif, else, Como fazer o computador decidir?\n",
    "Nesta seção, aprenderemos sobre como fazer o computador decidir entre vários trechos de código\n",
    "que podem ou não ser executados. Inicie assistindo a este [vídeo](https://youtu.be/bk22K1m0890?list=PL6gx4Cwl9DGAcbMi1sH6oAMk4JHw91mC_&t=74) (sim, inicia a partir de 1:14 mesmo ;) )"
   ]
  },
  {
   "cell_type": "markdown",
   "metadata": {},
   "source": [
    "Agora é sua vez de Praticar"
   ]
  },
  {
   "cell_type": "code",
   "execution_count": null,
   "metadata": {
    "collapsed": true
   },
   "outputs": [],
   "source": []
  }
 ],
 "metadata": {
  "kernelspec": {
   "display_name": "Python 3",
   "language": "python",
   "name": "python3"
  },
  "language_info": {
   "codemirror_mode": {
    "name": "ipython",
    "version": 3
   },
   "file_extension": ".py",
   "mimetype": "text/x-python",
   "name": "python",
   "nbconvert_exporter": "python",
   "pygments_lexer": "ipython3",
   "version": "3.5.1"
  }
 },
 "nbformat": 4,
 "nbformat_minor": 0
}
