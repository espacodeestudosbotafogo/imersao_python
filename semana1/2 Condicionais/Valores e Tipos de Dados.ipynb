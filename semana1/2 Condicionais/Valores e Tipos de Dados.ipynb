{
 "cells": [
  {
   "cell_type": "markdown",
   "metadata": {},
   "source": [
    "## Valores e Tipos de Dados\n",
    "\n",
    "Um valor é uma das coisas fundamentais que um programa pode manipular. Em uma expressão aritmética, como as que experimentamos no interpretador, temos que cada número envolvido nas operações é um valor. Por exemplo, em:\n",
    "    \n",
    "    2 + 3\n",
    "    \n",
    "temos que 2 e 3 são valores. Frequentemente, valores podem ser referidos também como objetos.\n",
    "\n",
    "\n",
    "Estes objetos (valores) podem ser classificados em diferentes *tipos de dados* ou *classes*. Na verdade, classe é um conceito um pouco diferente de tipo, mas apenas nos preocuparemos com isso mais a frente.\n",
    "\n",
    "Se você quiser saber a que classe um determinado valor pertence, pode utilizar uma função do Python chamada **type** para descobrir. Por exemplo:"
   ]
  },
  {
   "cell_type": "code",
   "execution_count": 10,
   "metadata": {
    "collapsed": false
   },
   "outputs": [
    {
     "name": "stdout",
     "output_type": "stream",
     "text": [
      "<class 'int'>\n",
      "<class 'str'>\n"
     ]
    }
   ],
   "source": [
    "print(type(17))\n",
    "print(type(\"Hello, World!\"))"
   ]
  },
  {
   "cell_type": "markdown",
   "metadata": {},
   "source": [
    "Vemos que o número 17 pertence à classe **int**, abreviação de **integer**, que representa os números inteiros. Enquanto isso, o valor \"Hello World!\" pertence à classe **str**, abreviação de **string**. A classe string é utilizada para representar caracteres, palavras, frases, enfim, textos em geral em Python.\n",
    "\n",
    "Podemos notar rapidamente um objeto da classe string em um programa ao observar as aspas ao seu redor. O valor de uma string é a sequência de caracteres dentro das aspas. As aspas são apenas um indicativo para ajudar o Python a saber que tipo de valor estamos tratando.\n",
    "\n",
    "Números com parte decimal pertencem a uma classe chamada ***float**, de *floating point* (ponto flutuante). Ponto flutuante refere-se ao formato utilizado para representar esses números na memória de um computador."
   ]
  },
  {
   "cell_type": "code",
   "execution_count": 11,
   "metadata": {
    "collapsed": false
   },
   "outputs": [
    {
     "name": "stdout",
     "output_type": "stream",
     "text": [
      "<class 'float'>\n"
     ]
    }
   ],
   "source": [
    "print(type(3.2))"
   ]
  },
  {
   "cell_type": "markdown",
   "metadata": {},
   "source": [
    "E o que podemos dizer sobre valores como \"17\" e \"3.2\"? Esses valores parecem números, mas há aspas envolvendo-os como as strings."
   ]
  },
  {
   "cell_type": "code",
   "execution_count": 12,
   "metadata": {
    "collapsed": false
   },
   "outputs": [
    {
     "name": "stdout",
     "output_type": "stream",
     "text": [
      "<class 'str'>\n",
      "<class 'str'>\n"
     ]
    }
   ],
   "source": [
    "print(type(\"17\"))\n",
    "print(type(\"3.2\"))"
   ]
  },
  {
   "cell_type": "markdown",
   "metadata": {},
   "source": [
    "De fato, vemos que são strings!\n",
    "\n",
    "Strings em Python podem estar envoltas de aspas simples (**'**), duplas (**\"**) ou até mesmo triplas (**'''** ou **\"\"\"**)"
   ]
  },
  {
   "cell_type": "code",
   "execution_count": 16,
   "metadata": {
    "collapsed": false
   },
   "outputs": [
    {
     "name": "stdout",
     "output_type": "stream",
     "text": [
      "<class 'str'>\n",
      "<class 'str'>\n",
      "<class 'str'>\n",
      "<class 'str'>\n"
     ]
    }
   ],
   "source": [
    "print(type('Isso é uma string.') )\n",
    "print(type(\"Isso também.\") )\n",
    "print(type(\"\"\"e isso.\"\"\") )\n",
    "print(type('''e até mesmo isso...''') )"
   ]
  },
  {
   "cell_type": "markdown",
   "metadata": {},
   "source": [
    "Aspas duplas podem conter aspas simples em seu interior, como por exemplo em \"Bruce's beard\". Analogamente, aspas simples podem conter aspas duplas em seu interior, como em 'The knights who say \"Ni!\"'. Strings envoltas em aspas triplas podem conter aspas simples ou duplas em seu interior."
   ]
  },
  {
   "cell_type": "code",
   "execution_count": 14,
   "metadata": {
    "collapsed": false
   },
   "outputs": [
    {
     "name": "stdout",
     "output_type": "stream",
     "text": [
      "\"Oh no\", she exclaimed, \"Ben's bike is broken!\"\n"
     ]
    }
   ],
   "source": [
    "print('''\"Oh no\", she exclaimed, \"Ben's bike is broken!\"''')"
   ]
  },
  {
   "cell_type": "markdown",
   "metadata": {},
   "source": [
    "Para o Python, é irrelevante qual tipo de aspas você prefira usar. Uma vez que ele identifique que o valor é uma string, ele será armazenado em memória de forma identica em todos os casos. No entanto, aspas triplas são mais comuns na documentação de código, algo que será discutido mais a frente."
   ]
  },
  {
   "cell_type": "markdown",
   "metadata": {},
   "source": [
    "Dentre os tipos de dados *básicos* de Python, temos ainda o tipo **bool**, abreviação de boolean (boleano), que serve para representar valores lógicos de Verdadeiro (True) ou Falso (False)."
   ]
  },
  {
   "cell_type": "code",
   "execution_count": 15,
   "metadata": {
    "collapsed": false
   },
   "outputs": [
    {
     "name": "stdout",
     "output_type": "stream",
     "text": [
      "<class 'bool'>\n",
      "<class 'bool'>\n"
     ]
    }
   ],
   "source": [
    "print(type(True))\n",
    "print(type(False))"
   ]
  },
  {
   "cell_type": "markdown",
   "metadata": {},
   "source": [
    "### Referências:\n",
    "http://interactivepython.org/runestone/static/thinkcspy/SimplePythonData/ValuesandDataTypes.html "
   ]
  }
 ],
 "metadata": {
  "kernelspec": {
   "display_name": "Python 3",
   "language": "python",
   "name": "python3"
  },
  "language_info": {
   "codemirror_mode": {
    "name": "ipython",
    "version": 3
   },
   "file_extension": ".py",
   "mimetype": "text/x-python",
   "name": "python",
   "nbconvert_exporter": "python",
   "pygments_lexer": "ipython3",
   "version": "3.5.1"
  }
 },
 "nbformat": 4,
 "nbformat_minor": 0
}
