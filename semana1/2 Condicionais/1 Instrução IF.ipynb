{
 "cells": [
  {
   "cell_type": "markdown",
   "metadata": {},
   "source": [
    "## 1. If, elif, else, Como fazer o computador decidir?\n",
    "Nesta seção, aprenderemos sobre como fazer o computador decidir entre vários trechos de código\n",
    "que podem ou não ser executados. Inicie assistindo a este [vídeo](https://youtu.be/bk22K1m0890?list=PL6gx4Cwl9DGAcbMi1sH6oAMk4JHw91mC_&t=74) (sim, inicia a partir de 1:14 mesmo ;) )"
   ]
  },
  {
   "cell_type": "markdown",
   "metadata": {},
   "source": [
    "___\n",
    "Em python, utilizamos os **dois pontos** (**:**) e a **indentação** (espaçamento a partir da margem) para agrupar instruções. Esquecer de identar e, principalmente, esquecer de colocar os dois pontos antes de iniciar o bloco de instruções são erros de sintaxe bastante comuns. Veja o exemplo abaixo:"
   ]
  },
  {
   "cell_type": "code",
   "execution_count": 3,
   "metadata": {
    "collapsed": false
   },
   "outputs": [
    {
     "name": "stdout",
     "output_type": "stream",
     "text": [
      "64\n",
      "Infelizmente o(a) senhor(a) ainda deve pagar passagem.\n"
     ]
    }
   ],
   "source": [
    "idade = int(input())\n",
    "if idade > 65:\n",
    "    print(\"Você tem direito a gratuidade no transporte público.\")\n",
    "elif idade == 64:\n",
    "    print(\"Infelizmente o(a) senhor(a) ainda deve pagar passagem.\")\n",
    "else:\n",
    "    print(\"Jovem, por favor, pague logo essa passagem.\")"
   ]
  },
  {
   "cell_type": "markdown",
   "metadata": {},
   "source": [
    "Repare como cada bloco if, else ou elif inicia após o sinal dois pontos (:) e possui todas as instruções agrupadas de forma indentada.\n",
    "___\n",
    "Qualquer valor pode ser utilizado como teste na instrução if. 0, None, uma string vazia funcionam como o valor False. uma lista, ou outras estruturas de dados que serão vistas mais adiantes, quando vazias também contam como o valor lógico False."
   ]
  },
  {
   "cell_type": "markdown",
   "metadata": {
    "collapsed": true
   },
   "source": [
    "#### Experimente\n",
    "\n",
    "Faça um programa que pergunte ao usuário "
   ]
  },
  {
   "cell_type": "code",
   "execution_count": null,
   "metadata": {
    "collapsed": true
   },
   "outputs": [],
   "source": []
  }
 ],
 "metadata": {
  "kernelspec": {
   "display_name": "Python 3",
   "language": "python",
   "name": "python3"
  },
  "language_info": {
   "codemirror_mode": {
    "name": "ipython",
    "version": 3
   },
   "file_extension": ".py",
   "mimetype": "text/x-python",
   "name": "python",
   "nbconvert_exporter": "python",
   "pygments_lexer": "ipython3",
   "version": "3.5.1"
  }
 },
 "nbformat": 4,
 "nbformat_minor": 0
}
