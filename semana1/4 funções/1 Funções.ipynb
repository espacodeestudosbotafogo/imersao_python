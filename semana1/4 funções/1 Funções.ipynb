{
 "cells": [
  {
   "cell_type": "markdown",
   "metadata": {},
   "source": [
    "### Tutorial\n",
    "\n",
    "1. Para uma **introdução** ao conceito de **funções**, assista a este [vídeo](https://www.youtube.com/watch?v=j2xhtI0WTew&index=12&list=PL6gx4Cwl9DGAcbMi1sH6oAMk4JHw91mC_)\n",
    "2. Sobre valores de **retorno de uma função**, assista a este [vídeo](https://www.youtube.com/watch?v=xRIzPZlei9I&index=13&list=PL6gx4Cwl9DGAcbMi1sH6oAMk4JHw91mC_)\n",
    "3. Valores **padrões para argumentos**, assista a este [vídeo](https://www.youtube.com/watch?v=mwr1AtpLMpI&list=PL6gx4Cwl9DGAcbMi1sH6oAMk4JHw91mC_&index=14)\n",
    "4. [Escopo de Variáveis](https://www.youtube.com/watch?v=f3TVuuhe-fY&index=15&list=PL6gx4Cwl9DGAcbMi1sH6oAMk4JHw91mC_)"
   ]
  },
  {
   "cell_type": "markdown",
   "metadata": {},
   "source": [
    "### Prática\n",
    "Agora é sua vez..."
   ]
  },
  {
   "cell_type": "code",
   "execution_count": null,
   "metadata": {
    "collapsed": true
   },
   "outputs": [],
   "source": []
  }
 ],
 "metadata": {
  "kernelspec": {
   "display_name": "Python 3",
   "language": "python",
   "name": "python3"
  },
  "language_info": {
   "codemirror_mode": {
    "name": "ipython",
    "version": 3
   },
   "file_extension": ".py",
   "mimetype": "text/x-python",
   "name": "python",
   "nbconvert_exporter": "python",
   "pygments_lexer": "ipython3",
   "version": "3.5.1"
  }
 },
 "nbformat": 4,
 "nbformat_minor": 0
}
