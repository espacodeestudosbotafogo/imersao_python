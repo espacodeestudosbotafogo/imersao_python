{
 "cells": [
  {
   "cell_type": "markdown",
   "metadata": {},
   "source": [
    "### Tutorial\n",
    "Vamos aprender a lidar com um novo tipo de dado em Python chamado Lista. Lista é um tipo de dado agregado, isto é, ela nos permite lidar com vários elementos ao mesmo tempo dentro de uma coisa só. Listas são muito úteis e vão ser constantemente utilizadas. \n",
    "\n",
    "Assista a este [vídeo](https://www.youtube.com/watch?v=1yUn-ydsgKk&index=5&list=PL6gx4Cwl9DGAcbMi1sH6oAMk4JHw91mC_) para aprender um pouco sobre listas."
   ]
  },
  {
   "cell_type": "markdown",
   "metadata": {},
   "source": [
    "### Prática\n",
    "\n",
    "Agora é sua vez..."
   ]
  },
  {
   "cell_type": "code",
   "execution_count": null,
   "metadata": {
    "collapsed": true
   },
   "outputs": [],
   "source": []
  }
 ],
 "metadata": {
  "kernelspec": {
   "display_name": "Python 3",
   "language": "python",
   "name": "python3"
  },
  "language_info": {
   "codemirror_mode": {
    "name": "ipython",
    "version": 3
   },
   "file_extension": ".py",
   "mimetype": "text/x-python",
   "name": "python",
   "nbconvert_exporter": "python",
   "pygments_lexer": "ipython3",
   "version": "3.5.1"
  }
 },
 "nbformat": 4,
 "nbformat_minor": 0
}
