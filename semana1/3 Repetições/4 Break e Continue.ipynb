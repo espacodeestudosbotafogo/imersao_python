{
 "cells": [
  {
   "cell_type": "markdown",
   "metadata": {},
   "source": [
    "### Tutorial\n",
    "\n",
    "1. Para aprender sobre a instrução **break**, assista a este [vídeo](https://www.youtube.com/watch?v=k6rkvgQkW04&index=10&list=PL6gx4Cwl9DGAcbMi1sH6oAMk4JHw91mC_)\n",
    "2. Para aprender sobre a instrução **continue**, assista a este [vídeo](https://www.youtube.com/watch?v=68EhtQbgXRc&list=PL6gx4Cwl9DGAcbMi1sH6oAMk4JHw91mC_&index=11)"
   ]
  },
  {
   "cell_type": "markdown",
   "metadata": {},
   "source": [
    "### Prática\n",
    "Agora é sua vez..."
   ]
  },
  {
   "cell_type": "code",
   "execution_count": null,
   "metadata": {
    "collapsed": true
   },
   "outputs": [],
   "source": []
  }
 ],
 "metadata": {
  "kernelspec": {
   "display_name": "Python 3",
   "language": "python",
   "name": "python3"
  },
  "language_info": {
   "codemirror_mode": {
    "name": "ipython",
    "version": 3
   },
   "file_extension": ".py",
   "mimetype": "text/x-python",
   "name": "python",
   "nbconvert_exporter": "python",
   "pygments_lexer": "ipython3",
   "version": "3.5.1"
  }
 },
 "nbformat": 4,
 "nbformat_minor": 0
}
